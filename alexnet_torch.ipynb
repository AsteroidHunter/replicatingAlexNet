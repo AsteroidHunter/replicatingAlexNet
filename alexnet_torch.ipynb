{
 "cells": [
  {
   "cell_type": "markdown",
   "id": "67855853-eeed-4824-801c-98ede7dc4c63",
   "metadata": {},
   "source": [
    "## Replicating the AlexNet architechture using PyTorch"
   ]
  },
  {
   "cell_type": "code",
   "execution_count": 2,
   "id": "initial_id",
   "metadata": {
    "ExecuteTime": {
     "end_time": "2024-06-25T19:25:54.681365Z",
     "start_time": "2024-06-25T19:25:53.759914Z"
    }
   },
   "outputs": [],
   "source": [
    "import torch\n",
    "import torch.nn as nn\n",
    "import torch.nn.functional as F"
   ]
  },
  {
   "cell_type": "markdown",
   "id": "8ce327fc-2896-4be9-a992-a396bcdcd4ff",
   "metadata": {},
   "source": [
    "The original paper used model parallelism using two GPUs. Since I am using a mac, the GPU is integrated and there is no way to specify the different cores of the GPU (turns out, _cores_ in a mac are a different from cores in a Nvidia or AMD GPU). I will split the model between the GPU and the CPU."
   ]
  },
  {
   "cell_type": "code",
   "execution_count": 3,
   "id": "d4989a6257657708",
   "metadata": {
    "ExecuteTime": {
     "end_time": "2024-06-25T19:27:19.629309Z",
     "start_time": "2024-06-25T19:27:19.625515Z"
    },
    "collapsed": false,
    "jupyter": {
     "outputs_hidden": false
    }
   },
   "outputs": [],
   "source": [
    "device1 = torch.device(\"mps\")\n",
    "device2 = torch.device(\"cpu\")"
   ]
  },
  {
   "cell_type": "code",
   "execution_count": 3,
   "id": "799d6756b756a909",
   "metadata": {
    "ExecuteTime": {
     "end_time": "2024-06-21T00:17:20.931659Z",
     "start_time": "2024-06-21T00:17:20.911163Z"
    },
    "collapsed": false,
    "jupyter": {
     "outputs_hidden": false
    }
   },
   "outputs": [
    {
     "name": "stdout",
     "output_type": "stream",
     "text": [
      "Net(\n",
      "  (conv1): Conv2d(1, 6, kernel_size=(5, 5), stride=(1, 1))\n",
      "  (conv2): Conv2d(6, 16, kernel_size=(5, 5), stride=(1, 1))\n",
      "  (fc1): Linear(in_features=256, out_features=120, bias=True)\n",
      "  (fc2): Linear(in_features=120, out_features=84, bias=True)\n",
      "  (fc3): Linear(in_features=84, out_features=10, bias=True)\n",
      ")\n"
     ]
    }
   ],
   "source": [
    "class Net(nn.Module):\n",
    "    def __init__(self):\n",
    "        super().__init__()\n",
    "        \n",
    "        self.conv1_top = nn.Conv2d(\n",
    "            in_channels=3,\n",
    "            out_channels=96,\n",
    "            kernel_size=11,\n",
    "            stride=4\n",
    "        ).to(device1)\n",
    "\n",
    "        self.conv1_bottom = nn.Conv2d(\n",
    "            in_channels=3,\n",
    "            out_channels=96,\n",
    "            kernel_size=11,\n",
    "            stride=4\n",
    "        ).to(device2)\n",
    "\n",
    "        self.conv2_top = nn.Conv2d(\n",
    "            in_channels=48,\n",
    "            out_channels=256,\n",
    "            kernel_size=5,\n",
    "        ).to(device1)\n",
    "\n",
    "        self.conv2_top = nn.Conv2d(\n",
    "            in_channels=48,\n",
    "            out_channels=256,\n",
    "            kernel_size=5,\n",
    "        ).to(device2)\n",
    "\n",
    "        # local response normalization layer with \n",
    "        # hyperparameters as described in the paper\n",
    "        self.lrn = nn.LocalResponseNorm(\n",
    "            size=5, \n",
    "            alpha=0.0001, \n",
    "            beta=0.75, \n",
    "            k=2\n",
    "        )\n",
    "\n",
    "        self.pool = nn.MaxPool2d(\n",
    "            kernel_size=kernel_size\n",
    "        )\n",
    "\n",
    "    \n",
    "    def forward(self, x):\n",
    "        x = F.relu(self.conv1(x))\n",
    "        x = F.max_pool2d(x, 2)\n",
    "        x = F.relu(self.conv2(x))\n",
    "        x = F.max_pool2d(x, 2)\n",
    "        x = torch.flatten(x, 1)\n",
    "        x = F.relu(self.fc1(x))\n",
    "        x = F.relu(self.fc2(x))\n",
    "        x = self.fc3(x)\n",
    "        return x\n",
    "\n",
    "net = Net()\n",
    "print(net)"
   ]
  },
  {
   "cell_type": "code",
   "execution_count": null,
   "id": "e9c8744d0be4ecb4",
   "metadata": {
    "collapsed": false,
    "jupyter": {
     "outputs_hidden": false
    }
   },
   "outputs": [],
   "source": []
  }
 ],
 "metadata": {
  "kernelspec": {
   "display_name": "Python 3 (ipykernel)",
   "language": "python",
   "name": "python3"
  },
  "language_info": {
   "codemirror_mode": {
    "name": "ipython",
    "version": 3
   },
   "file_extension": ".py",
   "mimetype": "text/x-python",
   "name": "python",
   "nbconvert_exporter": "python",
   "pygments_lexer": "ipython3",
   "version": "3.11.4"
  }
 },
 "nbformat": 4,
 "nbformat_minor": 5
}
