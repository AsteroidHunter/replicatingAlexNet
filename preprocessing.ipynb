{
 "cells": [
  {
   "cell_type": "markdown",
   "id": "263ceeab-dd9b-4302-8bea-0c4896d96cb0",
   "metadata": {},
   "source": [
    "# Preparing the training images"
   ]
  },
  {
   "cell_type": "markdown",
   "id": "930ca784-7e4d-4981-adff-a9e2505f1596",
   "metadata": {
    "collapsed": false,
    "jupyter": {
     "outputs_hidden": false
    }
   },
   "source": [
    "### Untarring the training images"
   ]
  },
  {
   "cell_type": "code",
   "execution_count": 10,
   "id": "4668113b-cc4e-4203-93b0-c1657c3dd8e6",
   "metadata": {},
   "outputs": [],
   "source": [
    "import tarfile\n",
    "import os\n",
    "from tqdm import tqdm\n",
    "import shutil"
   ]
  },
  {
   "cell_type": "code",
   "execution_count": 13,
   "id": "8186f9ba-4200-4b8d-9737-a5cb1dab15ad",
   "metadata": {},
   "outputs": [],
   "source": [
    "directory = \"./images/ILSVRC2010_images_train/\"\n",
    "# filenames = [f for root, dirs, f in os.walk(directory)][0]\n",
    "filenames = [f for f in os.listdir(directory) if f.endswith('.tar')]"
   ]
  },
  {
   "cell_type": "code",
   "execution_count": 9,
   "id": "f1446830-7f27-4b26-847e-c7e3a3232bc7",
   "metadata": {},
   "outputs": [
    {
     "name": "stderr",
     "output_type": "stream",
     "text": [
      "100%|██████████| 1000/1000 [06:20<00:00,  2.63it/s]\n"
     ]
    }
   ],
   "source": [
    "for i in tqdm(filenames):\n",
    "    with tarfile.open(f\"{directory}/{i}\", 'r') as tar:\n",
    "        tar.extractall(path=\"./images/training_images/\")"
   ]
  },
  {
   "cell_type": "code",
   "execution_count": 14,
   "id": "f216595c-c12e-4fc7-a342-5b2b02ffb576",
   "metadata": {},
   "outputs": [
    {
     "name": "stdout",
     "output_type": "stream",
     "text": [
      "Deleted directory: ./images/ILSVRC2010_images_train/\n"
     ]
    }
   ],
   "source": [
    "# deleting the folder with the tar files to free up space\n",
    "# using shutil instead of  os, apparently safer than using the shell\n",
    "if os.path.exists(directory):\n",
    "    shutil.rmtree(directory)\n",
    "    print(f\"Deleted directory: {directory}\")\n",
    "else:\n",
    "    print(f\"Directory does not exist: {directory}\")"
   ]
  },
  {
   "cell_type": "markdown",
   "id": "363a21d8-eb56-4bb3-a4b8-c30304d90ac3",
   "metadata": {},
   "source": [
    "### Replacing patch images"
   ]
  },
  {
   "cell_type": "code",
   "execution_count": 21,
   "id": "9de2f655-4c36-49a4-926e-8d20c1a49be6",
   "metadata": {},
   "outputs": [],
   "source": [
    "patch_images_train = \"./images/patch_images/train/\"\n",
    "\n",
    "filepath_all_patch_train = []\n",
    "for i in os.listdir(patch_images_train):\n",
    "    for j in os.listdir(patch_images_train + i):\n",
    "        filepath_all_patch_train.append(patch_images_train + i + j)\n",
    "\n",
    "#print(filepath_all_patch_train)"
   ]
  },
  {
   "cell_type": "code",
   "execution_count": null,
   "id": "fbc9f5c8-a48b-40f2-b03b-d04764250cb4",
   "metadata": {},
   "outputs": [],
   "source": []
  }
 ],
 "metadata": {
  "kernelspec": {
   "display_name": "Python 3 (ipykernel)",
   "language": "python",
   "name": "python3"
  },
  "language_info": {
   "codemirror_mode": {
    "name": "ipython",
    "version": 3
   },
   "file_extension": ".py",
   "mimetype": "text/x-python",
   "name": "python",
   "nbconvert_exporter": "python",
   "pygments_lexer": "ipython3",
   "version": "3.11.4"
  }
 },
 "nbformat": 4,
 "nbformat_minor": 5
}
